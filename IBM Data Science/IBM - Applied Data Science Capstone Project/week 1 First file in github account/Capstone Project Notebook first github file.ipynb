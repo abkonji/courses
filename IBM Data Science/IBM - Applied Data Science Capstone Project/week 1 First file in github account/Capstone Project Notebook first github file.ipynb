{
 "cells": [
  {
   "cell_type": "markdown",
   "metadata": {
    "button": false,
    "deletable": true,
    "new_sheet": false,
    "run_control": {
     "read_only": false
    }
   },
   "source": [
    "# Introduction\n",
    "### This notebook will be mainly used for the IBM's Applied Data Science Capstone Project.   \n",
    "Create a new repository on your Github account and name it Coursera_Capstone. I have prepared a guide to walk you through the process of creating a repository and setting it up.   \n",
    "  \n",
    "Now, start a Jupyter Notebook using any platform that you are comfortable with and do the following:  \n",
    "  \n",
    "Write some markdown to explain that this notebook will be mainly used for the capstone project.  \n",
    "    Import the pandas library as pd.  \n",
    "    Import the Numpy library as np.  \n",
    "    Print the following the statement: Hello Capstone Project Course!  \n",
    "    Push the Notebook to your Github repository and submit a link to the notebook on your Github repository.  \n",
    "\n",
    "------------"
   ]
  },
  {
   "cell_type": "markdown",
   "metadata": {
    "button": false,
    "deletable": true,
    "new_sheet": false,
    "run_control": {
     "read_only": false
    }
   },
   "source": [
    "# Exploring *pandas* <a id=\"0\"></a>\n",
    "\n",
    "*pandas* is a fast, powerful, flexible and easy to use open source data analysis and manipulation tool,\n",
    "built on top of the Python programming language [website](http://pandas.pydata.org/):  \n",
    "\n",
    "# Exploring *numpy* <a id=\"0\"></a>\n",
    "\n",
    "*NumPy* is the fundamental package for scientific computing with Python [website](https://numpy.org/):  \n",
    "\n"
   ]
  },
  {
   "cell_type": "markdown",
   "metadata": {
    "button": false,
    "deletable": true,
    "new_sheet": false,
    "run_control": {
     "read_only": false
    }
   },
   "source": [
    "## Import pandas and numpy <a id=\"4\"></a>"
   ]
  },
  {
   "cell_type": "code",
   "execution_count": 1,
   "metadata": {},
   "outputs": [],
   "source": [
    "import numpy as np  # useful for many scientific computing in Python\n",
    "import pandas as pd # primary data structure library"
   ]
  },
  {
   "cell_type": "code",
   "execution_count": 5,
   "metadata": {},
   "outputs": [
    {
     "name": "stdout",
     "output_type": "stream",
     "text": [
      "Hello Capstone Project Course!\n"
     ]
    }
   ],
   "source": [
    "print(\"Hello Capstone Project Course!\")"
   ]
  }
 ],
 "metadata": {
  "kernelspec": {
   "display_name": "Python 3",
   "language": "python",
   "name": "python3"
  },
  "language_info": {
   "codemirror_mode": {
    "name": "ipython",
    "version": 3
   },
   "file_extension": ".py",
   "mimetype": "text/x-python",
   "name": "python",
   "nbconvert_exporter": "python",
   "pygments_lexer": "ipython3",
   "version": "3.7.0"
  },
  "widgets": {
   "state": {},
   "version": "1.1.2"
  }
 },
 "nbformat": 4,
 "nbformat_minor": 2
}
