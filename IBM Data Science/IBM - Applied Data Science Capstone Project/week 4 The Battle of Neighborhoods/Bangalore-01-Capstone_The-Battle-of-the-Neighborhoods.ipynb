{
 "cells": [
  {
   "cell_type": "markdown",
   "metadata": {},
   "source": [
    "# Coursera Capstone Project"
   ]
  },
  {
   "cell_type": "markdown",
   "metadata": {},
   "source": [
    "### Anand Konji"
   ]
  },
  {
   "cell_type": "markdown",
   "metadata": {},
   "source": [
    "Now that you have been equipped with the skills and the tools to use location data to explore a geographical location, over the course of two weeks, you will have the opportunity to be as creative as you want and come up with an idea to leverage the Foursquare location data to explore or compare neighborhoods or cities of your choice or to come up with a problem that you can use the Foursquare location data to solve. If you cannot think of an idea or a problem, here are some ideas to get you started:\n",
    "\n",
    "In Module 3, we explored New York City and the city of Toronto and segmented and clustered their neighborhoods. Both cities are very diverse and are the financial capitals of their respective countries. One interesting idea would be to compare the neighborhoods of the two cities and determine how similar or dissimilar they are. Is New York City more like Toronto or Paris or some other multicultural city? I will leave it to you to refine this idea.\n",
    "In a city of your choice, if someone is looking to open a restaurant, where would you recommend that they open it? Similarly, if a contractor is trying to start their own business, where would you recommend that they setup their office?\n",
    "These are just a couple of many ideas and problems that can be solved using location data in addition to other datasets. No matter what you decide to do, make sure to provide sufficient justification of why you think what you want to do or solve is important and why would a client or a group of people be interested in your project.\n",
    "\n",
    "Review criterialess \n",
    "This capstone project will be graded by your peers. This capstone project is worth 70% of your total grade. The project will be completed over the course of 2 weeks. Week 1 submissions will be worth 30% whereas week 2 submissions will be worth 40% of your total grade.\n",
    "\n",
    "For this week, you will required to submit the following:\n",
    "\n",
    "A description of the problem and a discussion of the background. (15 marks)\n",
    "A description of the data and how it will be used to solve the problem. (15 marks)\n",
    "For the second week, the final deliverables of the project will be:\n",
    "\n",
    "A link to your Notebook on your Github repository, showing your code. (15 marks)\n",
    "A full report consisting of all of the following components (15 marks):\n",
    "Introduction where you discuss the business problem and who would be interested in this project.\n",
    "Data where you describe the data that will be used to solve the problem and the source of the data.\n",
    "Methodology section which represents the main component of the report where you discuss and describe any exploratory data analysis that you did, any inferential statistical testing that you performed, if any, and what machine learnings were used and why.\n",
    "Results section where you discuss the results.\n",
    "Discussion section where you discuss any observations you noted and any recommendations you can make based on the results.\n",
    "Conclusion section where you conclude the report.\n",
    "3. Your choice of a presentation or blogpost. (10 marks)  \n",
    "------------------------"
   ]
  },
  {
   "cell_type": "markdown",
   "metadata": {},
   "source": [
    "## Table of contents\n",
    "* [Introduction: Business Problem](#introduction)\n",
    "* [Data](#data)\n",
    "* [Methodology](#methodology)\n",
    "* [Analysis](#analysis)\n",
    "* [Results and Discussion](#results)\n",
    "* [Conclusion](#conclusion)"
   ]
  },
  {
   "cell_type": "markdown",
   "metadata": {},
   "source": [
    "--------  \n",
    "## The Battle of Neighborhoods (Week 1)\n"
   ]
  },
  {
   "cell_type": "markdown",
   "metadata": {},
   "source": [
    "## 1.\tIntroduction: Business Problem <a name=\"introduction\"></a>"
   ]
  },
  {
   "cell_type": "markdown",
   "metadata": {},
   "source": [
    "In this project we will try to find an optimal location for a restaurant. Specifically, this report will be targeted to stakeholders interested in opening an **Italian restaurant** in **Bangalore**, India.\n",
    "\n",
    "Since there are lots of restaurants in Bangalore we will try to detect **locations that are not already crowded with restaurants**. We are also particularly interested in **areas with no Italian restaurants in vicinity**. We would also prefer locations **as close to city center as possible**, assuming that first two conditions are met.\n",
    "\n",
    "We will use our data science powers to generate a few most promissing neighborhoods based on this criteria. Advantages of each area will then be clearly expressed so that best possible final location can be chosen by stakeholders."
   ]
  },
  {
   "cell_type": "markdown",
   "metadata": {},
   "source": [
    "## 2.\tData <a name=\"data\"></a>"
   ]
  },
  {
   "cell_type": "markdown",
   "metadata": {},
   "source": [
    "Based on definition of our problem, factors that will influence our decission are:\n",
    "* number of existing restaurants in the neighborhood (any type of restaurant)\n",
    "* number of and distance to Italian restaurants in the neighborhood, if any\n",
    "* distance of neighborhood from city center\n",
    "\n",
    "We decided to use regularly spaced grid of locations, centered around city center, to define our neighborhoods.\n",
    "\n",
    "Following data sources will be needed to extract/generate the required information:\n",
    "* centers of candidate areas will be generated algorithmically and approximate addresses of centers of those areas will be obtained using **reverse geocoding**\n",
    "* number of restaurants and their type and location in every neighborhood will be obtained using **Foursquare API**\n",
    "* coordinate of Bangalore center will be obtained using **geocoding** of well known Bangalore location (Koramangala)"
   ]
  },
  {
   "cell_type": "markdown",
   "metadata": {},
   "source": [
    "### Neighborhood Candidates\n",
    "\n",
    "Let's create latitude & longitude coordinates for centroids of our candidate neighborhoods. We will create a grid of cells covering our area of interest which is aprox. 10x10 killometers centered around Bangalore city center.\n",
    "\n",
    "Let's first find the latitude & longitude of Bangalore city center."
   ]
  },
  {
   "cell_type": "markdown",
   "metadata": {},
   "source": [
    "#### install the packages required, if not done already"
   ]
  },
  {
   "cell_type": "code",
   "execution_count": 1,
   "metadata": {},
   "outputs": [
    {
     "name": "stdout",
     "output_type": "stream",
     "text": [
      "Collecting beautifulsoup4\n",
      "\u001b[?25l  Downloading https://files.pythonhosted.org/packages/e8/b5/7bb03a696f2c9b7af792a8f51b82974e51c268f15e925fc834876a4efa0b/beautifulsoup4-4.9.0-py3-none-any.whl (109kB)\n",
      "\u001b[K     |████████████████████████████████| 112kB 7.8MB/s eta 0:00:01\n",
      "\u001b[?25hCollecting soupsieve>1.2 (from beautifulsoup4)\n",
      "  Downloading https://files.pythonhosted.org/packages/05/cf/ea245e52f55823f19992447b008bcbb7f78efc5960d77f6c34b5b45b36dd/soupsieve-2.0-py2.py3-none-any.whl\n",
      "Installing collected packages: soupsieve, beautifulsoup4\n",
      "Successfully installed beautifulsoup4-4.9.0 soupsieve-2.0\n",
      "Collecting lxml\n",
      "\u001b[?25l  Downloading https://files.pythonhosted.org/packages/dd/ba/a0e6866057fc0bbd17192925c1d63a3b85cf522965de9bc02364d08e5b84/lxml-4.5.0-cp36-cp36m-manylinux1_x86_64.whl (5.8MB)\n",
      "\u001b[K     |████████████████████████████████| 5.8MB 3.2MB/s eta 0:00:01\n",
      "\u001b[?25hInstalling collected packages: lxml\n",
      "Successfully installed lxml-4.5.0\n",
      "Collecting geocoder\n",
      "\u001b[?25l  Downloading https://files.pythonhosted.org/packages/4f/6b/13166c909ad2f2d76b929a4227c952630ebaf0d729f6317eb09cbceccbab/geocoder-1.38.1-py2.py3-none-any.whl (98kB)\n",
      "\u001b[K     |████████████████████████████████| 102kB 18.6MB/s ta 0:00:01\n",
      "\u001b[?25hCollecting click (from geocoder)\n",
      "\u001b[?25l  Downloading https://files.pythonhosted.org/packages/d2/3d/fa76db83bf75c4f8d338c2fd15c8d33fdd7ad23a9b5e57eb6c5de26b430e/click-7.1.2-py2.py3-none-any.whl (82kB)\n",
      "\u001b[K     |████████████████████████████████| 92kB 7.2MB/s eta 0:00:011\n",
      "\u001b[?25hRequirement already satisfied: requests in /home/jupyterlab/conda/envs/python/lib/python3.6/site-packages (from geocoder) (2.23.0)\n",
      "Collecting ratelim (from geocoder)\n",
      "  Downloading https://files.pythonhosted.org/packages/f2/98/7e6d147fd16a10a5f821db6e25f192265d6ecca3d82957a4fdd592cad49c/ratelim-0.1.6-py2.py3-none-any.whl\n",
      "Collecting future (from geocoder)\n",
      "\u001b[?25l  Downloading https://files.pythonhosted.org/packages/45/0b/38b06fd9b92dc2b68d58b75f900e97884c45bedd2ff83203d933cf5851c9/future-0.18.2.tar.gz (829kB)\n",
      "\u001b[K     |████████████████████████████████| 829kB 6.7MB/s eta 0:00:01     |█████▌                          | 143kB 6.7MB/s eta 0:00:01\n",
      "\u001b[?25hRequirement already satisfied: six in /home/jupyterlab/conda/envs/python/lib/python3.6/site-packages (from geocoder) (1.14.0)\n",
      "Requirement already satisfied: certifi>=2017.4.17 in /home/jupyterlab/conda/envs/python/lib/python3.6/site-packages (from requests->geocoder) (2020.4.5.1)\n",
      "Requirement already satisfied: chardet<4,>=3.0.2 in /home/jupyterlab/conda/envs/python/lib/python3.6/site-packages (from requests->geocoder) (3.0.4)\n",
      "Requirement already satisfied: urllib3!=1.25.0,!=1.25.1,<1.26,>=1.21.1 in /home/jupyterlab/conda/envs/python/lib/python3.6/site-packages (from requests->geocoder) (1.25.9)\n",
      "Requirement already satisfied: idna<3,>=2.5 in /home/jupyterlab/conda/envs/python/lib/python3.6/site-packages (from requests->geocoder) (2.9)\n",
      "Requirement already satisfied: decorator in /home/jupyterlab/conda/envs/python/lib/python3.6/site-packages (from ratelim->geocoder) (4.4.2)\n",
      "Building wheels for collected packages: future\n",
      "  Building wheel for future (setup.py) ... \u001b[?25ldone\n",
      "\u001b[?25h  Stored in directory: /home/jupyterlab/.cache/pip/wheels/8b/99/a0/81daf51dcd359a9377b110a8a886b3895921802d2fc1b2397e\n",
      "Successfully built future\n",
      "Installing collected packages: click, ratelim, future, geocoder\n",
      "Successfully installed click-7.1.2 future-0.18.2 geocoder-1.38.1 ratelim-0.1.6\n",
      "Collecting geopy\n",
      "\u001b[?25l  Downloading https://files.pythonhosted.org/packages/53/fc/3d1b47e8e82ea12c25203929efb1b964918a77067a874b2c7631e2ec35ec/geopy-1.21.0-py2.py3-none-any.whl (104kB)\n",
      "\u001b[K     |████████████████████████████████| 112kB 6.0MB/s eta 0:00:01\n",
      "\u001b[?25hCollecting geographiclib<2,>=1.49 (from geopy)\n",
      "  Downloading https://files.pythonhosted.org/packages/8b/62/26ec95a98ba64299163199e95ad1b0e34ad3f4e176e221c40245f211e425/geographiclib-1.50-py3-none-any.whl\n",
      "Installing collected packages: geographiclib, geopy\n",
      "Successfully installed geographiclib-1.50 geopy-1.21.0\n",
      "Requirement already satisfied: folium in /home/jupyterlab/conda/envs/python/lib/python3.6/site-packages (0.5.0)\n",
      "Requirement already satisfied: requests in /home/jupyterlab/conda/envs/python/lib/python3.6/site-packages (from folium) (2.23.0)\n",
      "Requirement already satisfied: six in /home/jupyterlab/conda/envs/python/lib/python3.6/site-packages (from folium) (1.14.0)\n",
      "Requirement already satisfied: branca in /home/jupyterlab/conda/envs/python/lib/python3.6/site-packages (from folium) (0.4.1)\n",
      "Requirement already satisfied: jinja2 in /home/jupyterlab/conda/envs/python/lib/python3.6/site-packages (from folium) (2.11.2)\n",
      "Requirement already satisfied: certifi>=2017.4.17 in /home/jupyterlab/conda/envs/python/lib/python3.6/site-packages (from requests->folium) (2020.4.5.1)\n",
      "Requirement already satisfied: chardet<4,>=3.0.2 in /home/jupyterlab/conda/envs/python/lib/python3.6/site-packages (from requests->folium) (3.0.4)\n",
      "Requirement already satisfied: urllib3!=1.25.0,!=1.25.1,<1.26,>=1.21.1 in /home/jupyterlab/conda/envs/python/lib/python3.6/site-packages (from requests->folium) (1.25.9)\n",
      "Requirement already satisfied: idna<3,>=2.5 in /home/jupyterlab/conda/envs/python/lib/python3.6/site-packages (from requests->folium) (2.9)\n",
      "Requirement already satisfied: MarkupSafe>=0.23 in /home/jupyterlab/conda/envs/python/lib/python3.6/site-packages (from jinja2->folium) (1.1.1)\n",
      "Installed required packages !!!\n"
     ]
    }
   ],
   "source": [
    "# install the packages required, if not done already\n",
    "!pip install beautifulsoup4\n",
    "!pip install lxml\n",
    "!pip install geocoder\n",
    "!pip install geopy\n",
    "!pip install folium\n",
    "print(\"Installed required packages !!!\")"
   ]
  },
  {
   "cell_type": "markdown",
   "metadata": {},
   "source": [
    "#### install the packages required, if not done already"
   ]
  },
  {
   "cell_type": "code",
   "execution_count": 19,
   "metadata": {},
   "outputs": [
    {
     "name": "stdout",
     "output_type": "stream",
     "text": [
      "Imported!\n",
      "Imported required stuffs!\n"
     ]
    }
   ],
   "source": [
    "# import the libraries\n",
    "import pandas as pd\n",
    "import requests as rqt\n",
    "from bs4 import BeautifulSoup as bs\n",
    "import numpy as np\n",
    "import geocoder as gc\n",
    "print(\"Imported!\")\n",
    "print(\"Imported required stuffs!\")"
   ]
  },
  {
   "cell_type": "markdown",
   "metadata": {},
   "source": [
    "#### Scraping Wikipedia page and creating a Dataframe and Transforming the data on Wiki page into pandas dataframe."
   ]
  },
  {
   "cell_type": "markdown",
   "metadata": {},
   "source": [
    "Using BeautifulSoup Scraping List of Postal Codes of Given Wikipedia/other source Page "
   ]
  },
  {
   "cell_type": "code",
   "execution_count": 3,
   "metadata": {},
   "outputs": [],
   "source": [
    "url = \"http://pincode.india-server.com/cities/bengaluru/\"\n",
    "extractData = rqt.get(url).text\n",
    "wikiData = bs(extractData, 'lxml')"
   ]
  },
  {
   "cell_type": "code",
   "execution_count": 5,
   "metadata": {},
   "outputs": [],
   "source": [
    "#wikiData"
   ]
  },
  {
   "cell_type": "markdown",
   "metadata": {},
   "source": [
    "Converting content of PostalCode HTML table as dataframe"
   ]
  },
  {
   "cell_type": "code",
   "execution_count": 6,
   "metadata": {},
   "outputs": [],
   "source": [
    "columnNames = ['Postalcode','Town','Neighborhood']\n",
    "bangalore = pd.DataFrame(columns = columnNames)\n",
    "\n",
    "table = wikiData.find('table', class_='pincode-tbl')"
   ]
  },
  {
   "cell_type": "code",
   "execution_count": 32,
   "metadata": {},
   "outputs": [],
   "source": [
    "#table"
   ]
  },
  {
   "cell_type": "code",
   "execution_count": 7,
   "metadata": {},
   "outputs": [],
   "source": [
    "# parsing data and pushing to table rows\n",
    "SrNo = 0\n",
    "Neighborhood = 0\n",
    "town='Bangalore'\n",
    "OffType = 0\n",
    "PinCode = 0\n",
    "\n",
    "for tr in table.find_all('tr'):\n",
    "    i = 0\n",
    "    for td in tr.find_all('td'):\n",
    "        if i == 0:\n",
    "            SrNo = td.text.strip('\\n')\n",
    "            i = i + 1\n",
    "        elif i == 1:\n",
    "            Neighborhood = td.text.strip('\\n')\n",
    "            i = i + 1\n",
    "        elif i == 2:\n",
    "            OffType = td.text.strip('\\n')\n",
    "            i = i + 1\n",
    "        elif i == 3: \n",
    "            PinCode = td.text.strip('\\n').replace(']','')\n",
    "    #bangalore = bangalore.append({'S.No.': SrNo,'Post office': PoOff,'Office type': OffType, 'Pincode': PinCode},ignore_index=True)\n",
    "    bangalore = bangalore.append({'Postalcode': PinCode,'Town': town,'Neighborhood': Neighborhood},ignore_index=True)"
   ]
  },
  {
   "cell_type": "code",
   "execution_count": 8,
   "metadata": {},
   "outputs": [
    {
     "data": {
      "text/html": [
       "<div>\n",
       "<style scoped>\n",
       "    .dataframe tbody tr th:only-of-type {\n",
       "        vertical-align: middle;\n",
       "    }\n",
       "\n",
       "    .dataframe tbody tr th {\n",
       "        vertical-align: top;\n",
       "    }\n",
       "\n",
       "    .dataframe thead th {\n",
       "        text-align: right;\n",
       "    }\n",
       "</style>\n",
       "<table border=\"1\" class=\"dataframe\">\n",
       "  <thead>\n",
       "    <tr style=\"text-align: right;\">\n",
       "      <th></th>\n",
       "      <th>Postalcode</th>\n",
       "      <th>Town</th>\n",
       "      <th>Neighborhood</th>\n",
       "    </tr>\n",
       "  </thead>\n",
       "  <tbody>\n",
       "    <tr>\n",
       "      <th>0</th>\n",
       "      <td>0</td>\n",
       "      <td>Bangalore</td>\n",
       "      <td>0</td>\n",
       "    </tr>\n",
       "    <tr>\n",
       "      <th>1</th>\n",
       "      <td>Pincode</td>\n",
       "      <td>Bangalore</td>\n",
       "      <td>Post office</td>\n",
       "    </tr>\n",
       "    <tr>\n",
       "      <th>2</th>\n",
       "      <td>560063</td>\n",
       "      <td>Bangalore</td>\n",
       "      <td>A F Station Yelahanka</td>\n",
       "    </tr>\n",
       "    <tr>\n",
       "      <th>3</th>\n",
       "      <td>560107</td>\n",
       "      <td>Bangalore</td>\n",
       "      <td>Achitnagar</td>\n",
       "    </tr>\n",
       "    <tr>\n",
       "      <th>4</th>\n",
       "      <td>561101</td>\n",
       "      <td>Bangalore</td>\n",
       "      <td>Adarangi</td>\n",
       "    </tr>\n",
       "    <tr>\n",
       "      <th>...</th>\n",
       "      <td>...</td>\n",
       "      <td>...</td>\n",
       "      <td>...</td>\n",
       "    </tr>\n",
       "    <tr>\n",
       "      <th>449</th>\n",
       "      <td>562110</td>\n",
       "      <td>Bangalore</td>\n",
       "      <td>Yeliyur</td>\n",
       "    </tr>\n",
       "    <tr>\n",
       "      <th>450</th>\n",
       "      <td>562127</td>\n",
       "      <td>Bangalore</td>\n",
       "      <td>Yennegere</td>\n",
       "    </tr>\n",
       "    <tr>\n",
       "      <th>451</th>\n",
       "      <td>562123</td>\n",
       "      <td>Bangalore</td>\n",
       "      <td>Yentiganahalli</td>\n",
       "    </tr>\n",
       "    <tr>\n",
       "      <th>452</th>\n",
       "      <td>560022</td>\n",
       "      <td>Bangalore</td>\n",
       "      <td>Yeshwanthpur Bazar</td>\n",
       "    </tr>\n",
       "    <tr>\n",
       "      <th>453</th>\n",
       "      <td>560022</td>\n",
       "      <td>Bangalore</td>\n",
       "      <td>Yeswanthpura</td>\n",
       "    </tr>\n",
       "  </tbody>\n",
       "</table>\n",
       "<p>454 rows × 3 columns</p>\n",
       "</div>"
      ],
      "text/plain": [
       "    Postalcode       Town            Neighborhood\n",
       "0            0  Bangalore                       0\n",
       "1      Pincode  Bangalore             Post office\n",
       "2       560063  Bangalore  A F Station Yelahanka \n",
       "3       560107  Bangalore             Achitnagar \n",
       "4       561101  Bangalore               Adarangi \n",
       "..         ...        ...                     ...\n",
       "449     562110  Bangalore                Yeliyur \n",
       "450     562127  Bangalore              Yennegere \n",
       "451     562123  Bangalore         Yentiganahalli \n",
       "452     560022  Bangalore     Yeshwanthpur Bazar \n",
       "453     560022  Bangalore           Yeswanthpura \n",
       "\n",
       "[454 rows x 3 columns]"
      ]
     },
     "execution_count": 8,
     "metadata": {},
     "output_type": "execute_result"
    }
   ],
   "source": [
    "bangalore"
   ]
  },
  {
   "cell_type": "markdown",
   "metadata": {},
   "source": [
    "Data cleansing"
   ]
  },
  {
   "cell_type": "code",
   "execution_count": 9,
   "metadata": {},
   "outputs": [],
   "source": [
    "# clean dataframe \n",
    "bangalore = bangalore[bangalore.Neighborhood!='Not assigned']\n",
    "bangalore = bangalore[bangalore.Neighborhood!= 0]\n",
    "bangalore = bangalore[bangalore.Neighborhood!='Post office']\n",
    "bangalore.reset_index(drop = True, inplace = True)\n",
    "i = 0\n",
    "for i in range(0,bangalore.shape[0]):\n",
    "    if bangalore.iloc[i][2] == 'Not assigned':\n",
    "        bangalore.iloc[i][2] = bangalore.iloc[i][1]\n",
    "        i = i+1"
   ]
  },
  {
   "cell_type": "code",
   "execution_count": 10,
   "metadata": {},
   "outputs": [],
   "source": [
    "df = bangalore.groupby(['Postalcode','Town'])['Neighborhood'].apply(', '.join).reset_index()"
   ]
  },
  {
   "cell_type": "code",
   "execution_count": 11,
   "metadata": {},
   "outputs": [
    {
     "data": {
      "text/html": [
       "<div>\n",
       "<style scoped>\n",
       "    .dataframe tbody tr th:only-of-type {\n",
       "        vertical-align: middle;\n",
       "    }\n",
       "\n",
       "    .dataframe tbody tr th {\n",
       "        vertical-align: top;\n",
       "    }\n",
       "\n",
       "    .dataframe thead th {\n",
       "        text-align: right;\n",
       "    }\n",
       "</style>\n",
       "<table border=\"1\" class=\"dataframe\">\n",
       "  <thead>\n",
       "    <tr style=\"text-align: right;\">\n",
       "      <th></th>\n",
       "      <th>Postalcode</th>\n",
       "      <th>Town</th>\n",
       "      <th>Neighborhood</th>\n",
       "    </tr>\n",
       "  </thead>\n",
       "  <tbody>\n",
       "    <tr>\n",
       "      <th>0</th>\n",
       "      <td>560001</td>\n",
       "      <td>Bangalore</td>\n",
       "      <td>Bangalore Bazaar , Bangalore G.P.O., CMM Court...</td>\n",
       "    </tr>\n",
       "    <tr>\n",
       "      <th>1</th>\n",
       "      <td>560002</td>\n",
       "      <td>Bangalore</td>\n",
       "      <td>Bangalore City , Bangalore Corporation Building</td>\n",
       "    </tr>\n",
       "    <tr>\n",
       "      <th>2</th>\n",
       "      <td>560003</td>\n",
       "      <td>Bangalore</td>\n",
       "      <td>Malleswaram , Palace Guttahalli , Swimming Poo...</td>\n",
       "    </tr>\n",
       "    <tr>\n",
       "      <th>3</th>\n",
       "      <td>560004</td>\n",
       "      <td>Bangalore</td>\n",
       "      <td>Basavanagudi , Mavalli , Pampamahakavi Road , ...</td>\n",
       "    </tr>\n",
       "    <tr>\n",
       "      <th>4</th>\n",
       "      <td>560005</td>\n",
       "      <td>Bangalore</td>\n",
       "      <td>Fraser Town</td>\n",
       "    </tr>\n",
       "    <tr>\n",
       "      <th>...</th>\n",
       "      <td>...</td>\n",
       "      <td>...</td>\n",
       "      <td>...</td>\n",
       "    </tr>\n",
       "    <tr>\n",
       "      <th>126</th>\n",
       "      <td>562149</td>\n",
       "      <td>Bangalore</td>\n",
       "      <td>Bagalur  , Bandikodigehalli , Kannur</td>\n",
       "    </tr>\n",
       "    <tr>\n",
       "      <th>127</th>\n",
       "      <td>562157</td>\n",
       "      <td>Bangalore</td>\n",
       "      <td>Bettahalsur , Chikkajala , Doddajala , Hunasam...</td>\n",
       "    </tr>\n",
       "    <tr>\n",
       "      <th>128</th>\n",
       "      <td>562162</td>\n",
       "      <td>Bangalore</td>\n",
       "      <td>Aluru , Dasanapura , Hullegowdanahalli , Husku...</td>\n",
       "    </tr>\n",
       "    <tr>\n",
       "      <th>129</th>\n",
       "      <td>562163</td>\n",
       "      <td>Bangalore</td>\n",
       "      <td>Arakere , Basettihalli , Doddatumkur , Konnaga...</td>\n",
       "    </tr>\n",
       "    <tr>\n",
       "      <th>130</th>\n",
       "      <td>562164</td>\n",
       "      <td>Bangalore</td>\n",
       "      <td>Avathi, Bidalur , Bijjawara , Karahalli , Koir...</td>\n",
       "    </tr>\n",
       "  </tbody>\n",
       "</table>\n",
       "<p>131 rows × 3 columns</p>\n",
       "</div>"
      ],
      "text/plain": [
       "    Postalcode       Town                                       Neighborhood\n",
       "0       560001  Bangalore  Bangalore Bazaar , Bangalore G.P.O., CMM Court...\n",
       "1       560002  Bangalore   Bangalore City , Bangalore Corporation Building \n",
       "2       560003  Bangalore  Malleswaram , Palace Guttahalli , Swimming Poo...\n",
       "3       560004  Bangalore  Basavanagudi , Mavalli , Pampamahakavi Road , ...\n",
       "4       560005  Bangalore                                       Fraser Town \n",
       "..         ...        ...                                                ...\n",
       "126     562149  Bangalore              Bagalur  , Bandikodigehalli , Kannur \n",
       "127     562157  Bangalore  Bettahalsur , Chikkajala , Doddajala , Hunasam...\n",
       "128     562162  Bangalore  Aluru , Dasanapura , Hullegowdanahalli , Husku...\n",
       "129     562163  Bangalore  Arakere , Basettihalli , Doddatumkur , Konnaga...\n",
       "130     562164  Bangalore  Avathi, Bidalur , Bijjawara , Karahalli , Koir...\n",
       "\n",
       "[131 rows x 3 columns]"
      ]
     },
     "execution_count": 11,
     "metadata": {},
     "output_type": "execute_result"
    }
   ],
   "source": [
    "df"
   ]
  },
  {
   "cell_type": "code",
   "execution_count": 12,
   "metadata": {},
   "outputs": [
    {
     "data": {
      "text/html": [
       "<div>\n",
       "<style scoped>\n",
       "    .dataframe tbody tr th:only-of-type {\n",
       "        vertical-align: middle;\n",
       "    }\n",
       "\n",
       "    .dataframe tbody tr th {\n",
       "        vertical-align: top;\n",
       "    }\n",
       "\n",
       "    .dataframe thead th {\n",
       "        text-align: right;\n",
       "    }\n",
       "</style>\n",
       "<table border=\"1\" class=\"dataframe\">\n",
       "  <thead>\n",
       "    <tr style=\"text-align: right;\">\n",
       "      <th></th>\n",
       "      <th>Postalcode</th>\n",
       "      <th>Town</th>\n",
       "      <th>Neighborhood</th>\n",
       "    </tr>\n",
       "  </thead>\n",
       "  <tbody>\n",
       "    <tr>\n",
       "      <th>count</th>\n",
       "      <td>131</td>\n",
       "      <td>131</td>\n",
       "      <td>131</td>\n",
       "    </tr>\n",
       "    <tr>\n",
       "      <th>unique</th>\n",
       "      <td>131</td>\n",
       "      <td>1</td>\n",
       "      <td>131</td>\n",
       "    </tr>\n",
       "    <tr>\n",
       "      <th>top</th>\n",
       "      <td>560049</td>\n",
       "      <td>Bangalore</td>\n",
       "      <td>Gayathrinagar , Srirampuram</td>\n",
       "    </tr>\n",
       "    <tr>\n",
       "      <th>freq</th>\n",
       "      <td>1</td>\n",
       "      <td>131</td>\n",
       "      <td>1</td>\n",
       "    </tr>\n",
       "  </tbody>\n",
       "</table>\n",
       "</div>"
      ],
      "text/plain": [
       "       Postalcode       Town                  Neighborhood\n",
       "count         131        131                           131\n",
       "unique        131          1                           131\n",
       "top        560049  Bangalore  Gayathrinagar , Srirampuram \n",
       "freq            1        131                             1"
      ]
     },
     "execution_count": 12,
     "metadata": {},
     "output_type": "execute_result"
    }
   ],
   "source": [
    "df.describe()"
   ]
  },
  {
   "cell_type": "markdown",
   "metadata": {},
   "source": [
    "Data Cleaning | Drop None rows of df and row which contains 'Not assigned' value | All \"Not assigned\" will be replace to 'NaN'"
   ]
  },
  {
   "cell_type": "code",
   "execution_count": 13,
   "metadata": {},
   "outputs": [],
   "source": [
    "df = df.dropna()\n",
    "empty = 'Not assigned'\n",
    "df = df[(df.Postalcode != empty ) & (df.Town != empty) & (df.Neighborhood != empty)]"
   ]
  },
  {
   "cell_type": "code",
   "execution_count": 14,
   "metadata": {},
   "outputs": [
    {
     "data": {
      "text/html": [
       "<div>\n",
       "<style scoped>\n",
       "    .dataframe tbody tr th:only-of-type {\n",
       "        vertical-align: middle;\n",
       "    }\n",
       "\n",
       "    .dataframe tbody tr th {\n",
       "        vertical-align: top;\n",
       "    }\n",
       "\n",
       "    .dataframe thead th {\n",
       "        text-align: right;\n",
       "    }\n",
       "</style>\n",
       "<table border=\"1\" class=\"dataframe\">\n",
       "  <thead>\n",
       "    <tr style=\"text-align: right;\">\n",
       "      <th></th>\n",
       "      <th>Postalcode</th>\n",
       "      <th>Town</th>\n",
       "      <th>Neighborhood</th>\n",
       "    </tr>\n",
       "  </thead>\n",
       "  <tbody>\n",
       "    <tr>\n",
       "      <th>0</th>\n",
       "      <td>560001</td>\n",
       "      <td>Bangalore</td>\n",
       "      <td>Bangalore Bazaar , Bangalore G.P.O., CMM Court...</td>\n",
       "    </tr>\n",
       "    <tr>\n",
       "      <th>1</th>\n",
       "      <td>560002</td>\n",
       "      <td>Bangalore</td>\n",
       "      <td>Bangalore City , Bangalore Corporation Building</td>\n",
       "    </tr>\n",
       "    <tr>\n",
       "      <th>2</th>\n",
       "      <td>560003</td>\n",
       "      <td>Bangalore</td>\n",
       "      <td>Malleswaram , Palace Guttahalli , Swimming Poo...</td>\n",
       "    </tr>\n",
       "    <tr>\n",
       "      <th>3</th>\n",
       "      <td>560004</td>\n",
       "      <td>Bangalore</td>\n",
       "      <td>Basavanagudi , Mavalli , Pampamahakavi Road , ...</td>\n",
       "    </tr>\n",
       "    <tr>\n",
       "      <th>4</th>\n",
       "      <td>560005</td>\n",
       "      <td>Bangalore</td>\n",
       "      <td>Fraser Town</td>\n",
       "    </tr>\n",
       "  </tbody>\n",
       "</table>\n",
       "</div>"
      ],
      "text/plain": [
       "  Postalcode       Town                                       Neighborhood\n",
       "0     560001  Bangalore  Bangalore Bazaar , Bangalore G.P.O., CMM Court...\n",
       "1     560002  Bangalore   Bangalore City , Bangalore Corporation Building \n",
       "2     560003  Bangalore  Malleswaram , Palace Guttahalli , Swimming Poo...\n",
       "3     560004  Bangalore  Basavanagudi , Mavalli , Pampamahakavi Road , ...\n",
       "4     560005  Bangalore                                       Fraser Town "
      ]
     },
     "execution_count": 14,
     "metadata": {},
     "output_type": "execute_result"
    }
   ],
   "source": [
    "df.head()"
   ]
  },
  {
   "cell_type": "code",
   "execution_count": 15,
   "metadata": {},
   "outputs": [],
   "source": [
    "def neighborhood_list(grouped):    \n",
    "    return ', '.join(sorted(grouped['Neighborhood'].tolist()))\n",
    "                    \n",
    "grp = df.groupby(['Postalcode', 'Town'])\n",
    "df_2 = grp.apply(neighborhood_list).reset_index(name='Neighborhood')"
   ]
  },
  {
   "cell_type": "code",
   "execution_count": 16,
   "metadata": {},
   "outputs": [
    {
     "data": {
      "text/html": [
       "<div>\n",
       "<style scoped>\n",
       "    .dataframe tbody tr th:only-of-type {\n",
       "        vertical-align: middle;\n",
       "    }\n",
       "\n",
       "    .dataframe tbody tr th {\n",
       "        vertical-align: top;\n",
       "    }\n",
       "\n",
       "    .dataframe thead th {\n",
       "        text-align: right;\n",
       "    }\n",
       "</style>\n",
       "<table border=\"1\" class=\"dataframe\">\n",
       "  <thead>\n",
       "    <tr style=\"text-align: right;\">\n",
       "      <th></th>\n",
       "      <th>Postalcode</th>\n",
       "      <th>Town</th>\n",
       "      <th>Neighborhood</th>\n",
       "    </tr>\n",
       "  </thead>\n",
       "  <tbody>\n",
       "    <tr>\n",
       "      <th>count</th>\n",
       "      <td>131</td>\n",
       "      <td>131</td>\n",
       "      <td>131</td>\n",
       "    </tr>\n",
       "    <tr>\n",
       "      <th>unique</th>\n",
       "      <td>131</td>\n",
       "      <td>1</td>\n",
       "      <td>131</td>\n",
       "    </tr>\n",
       "    <tr>\n",
       "      <th>top</th>\n",
       "      <td>560049</td>\n",
       "      <td>Bangalore</td>\n",
       "      <td>Gayathrinagar , Srirampuram</td>\n",
       "    </tr>\n",
       "    <tr>\n",
       "      <th>freq</th>\n",
       "      <td>1</td>\n",
       "      <td>131</td>\n",
       "      <td>1</td>\n",
       "    </tr>\n",
       "  </tbody>\n",
       "</table>\n",
       "</div>"
      ],
      "text/plain": [
       "       Postalcode       Town                  Neighborhood\n",
       "count         131        131                           131\n",
       "unique        131          1                           131\n",
       "top        560049  Bangalore  Gayathrinagar , Srirampuram \n",
       "freq            1        131                             1"
      ]
     },
     "execution_count": 16,
     "metadata": {},
     "output_type": "execute_result"
    }
   ],
   "source": [
    "df_2.describe()"
   ]
  },
  {
   "cell_type": "code",
   "execution_count": 17,
   "metadata": {},
   "outputs": [
    {
     "name": "stdout",
     "output_type": "stream",
     "text": [
      "(131, 3)\n"
     ]
    },
    {
     "data": {
      "text/html": [
       "<div>\n",
       "<style scoped>\n",
       "    .dataframe tbody tr th:only-of-type {\n",
       "        vertical-align: middle;\n",
       "    }\n",
       "\n",
       "    .dataframe tbody tr th {\n",
       "        vertical-align: top;\n",
       "    }\n",
       "\n",
       "    .dataframe thead th {\n",
       "        text-align: right;\n",
       "    }\n",
       "</style>\n",
       "<table border=\"1\" class=\"dataframe\">\n",
       "  <thead>\n",
       "    <tr style=\"text-align: right;\">\n",
       "      <th></th>\n",
       "      <th>Postalcode</th>\n",
       "      <th>Town</th>\n",
       "      <th>Neighborhood</th>\n",
       "    </tr>\n",
       "  </thead>\n",
       "  <tbody>\n",
       "    <tr>\n",
       "      <th>0</th>\n",
       "      <td>560001</td>\n",
       "      <td>Bangalore</td>\n",
       "      <td>Bangalore Bazaar , Bangalore G.P.O., CMM Court...</td>\n",
       "    </tr>\n",
       "    <tr>\n",
       "      <th>1</th>\n",
       "      <td>560002</td>\n",
       "      <td>Bangalore</td>\n",
       "      <td>Bangalore City , Bangalore Corporation Building</td>\n",
       "    </tr>\n",
       "    <tr>\n",
       "      <th>2</th>\n",
       "      <td>560003</td>\n",
       "      <td>Bangalore</td>\n",
       "      <td>Malleswaram , Palace Guttahalli , Swimming Poo...</td>\n",
       "    </tr>\n",
       "    <tr>\n",
       "      <th>3</th>\n",
       "      <td>560004</td>\n",
       "      <td>Bangalore</td>\n",
       "      <td>Basavanagudi , Mavalli , Pampamahakavi Road , ...</td>\n",
       "    </tr>\n",
       "    <tr>\n",
       "      <th>4</th>\n",
       "      <td>560005</td>\n",
       "      <td>Bangalore</td>\n",
       "      <td>Fraser Town</td>\n",
       "    </tr>\n",
       "  </tbody>\n",
       "</table>\n",
       "</div>"
      ],
      "text/plain": [
       "  Postalcode       Town                                       Neighborhood\n",
       "0     560001  Bangalore  Bangalore Bazaar , Bangalore G.P.O., CMM Court...\n",
       "1     560002  Bangalore   Bangalore City , Bangalore Corporation Building \n",
       "2     560003  Bangalore  Malleswaram , Palace Guttahalli , Swimming Poo...\n",
       "3     560004  Bangalore  Basavanagudi , Mavalli , Pampamahakavi Road , ...\n",
       "4     560005  Bangalore                                       Fraser Town "
      ]
     },
     "execution_count": 17,
     "metadata": {},
     "output_type": "execute_result"
    }
   ],
   "source": [
    "print(df_2.shape)\n",
    "df_2.head()"
   ]
  },
  {
   "cell_type": "code",
   "execution_count": 18,
   "metadata": {},
   "outputs": [],
   "source": [
    "df_2.to_csv('bangalore.csv', index=False) "
   ]
  },
  {
   "cell_type": "markdown",
   "metadata": {},
   "source": [
    "#### Adding Latitude and Longitude Co-ordinates to the DataFrame"
   ]
  },
  {
   "cell_type": "markdown",
   "metadata": {},
   "source": [
    "Reading the bangalore.csv which created on Part 1 Notebook"
   ]
  },
  {
   "cell_type": "code",
   "execution_count": 20,
   "metadata": {},
   "outputs": [
    {
     "data": {
      "text/html": [
       "<div>\n",
       "<style scoped>\n",
       "    .dataframe tbody tr th:only-of-type {\n",
       "        vertical-align: middle;\n",
       "    }\n",
       "\n",
       "    .dataframe tbody tr th {\n",
       "        vertical-align: top;\n",
       "    }\n",
       "\n",
       "    .dataframe thead th {\n",
       "        text-align: right;\n",
       "    }\n",
       "</style>\n",
       "<table border=\"1\" class=\"dataframe\">\n",
       "  <thead>\n",
       "    <tr style=\"text-align: right;\">\n",
       "      <th></th>\n",
       "      <th>Postalcode</th>\n",
       "      <th>Town</th>\n",
       "      <th>Neighborhood</th>\n",
       "    </tr>\n",
       "  </thead>\n",
       "  <tbody>\n",
       "    <tr>\n",
       "      <th>0</th>\n",
       "      <td>560001</td>\n",
       "      <td>Bangalore</td>\n",
       "      <td>Bangalore Bazaar , Bangalore G.P.O., CMM Court...</td>\n",
       "    </tr>\n",
       "    <tr>\n",
       "      <th>1</th>\n",
       "      <td>560002</td>\n",
       "      <td>Bangalore</td>\n",
       "      <td>Bangalore City , Bangalore Corporation Building</td>\n",
       "    </tr>\n",
       "    <tr>\n",
       "      <th>2</th>\n",
       "      <td>560003</td>\n",
       "      <td>Bangalore</td>\n",
       "      <td>Malleswaram , Palace Guttahalli , Swimming Poo...</td>\n",
       "    </tr>\n",
       "    <tr>\n",
       "      <th>3</th>\n",
       "      <td>560004</td>\n",
       "      <td>Bangalore</td>\n",
       "      <td>Basavanagudi , Mavalli , Pampamahakavi Road , ...</td>\n",
       "    </tr>\n",
       "    <tr>\n",
       "      <th>4</th>\n",
       "      <td>560005</td>\n",
       "      <td>Bangalore</td>\n",
       "      <td>Fraser Town</td>\n",
       "    </tr>\n",
       "  </tbody>\n",
       "</table>\n",
       "</div>"
      ],
      "text/plain": [
       "   Postalcode       Town                                       Neighborhood\n",
       "0      560001  Bangalore  Bangalore Bazaar , Bangalore G.P.O., CMM Court...\n",
       "1      560002  Bangalore   Bangalore City , Bangalore Corporation Building \n",
       "2      560003  Bangalore  Malleswaram , Palace Guttahalli , Swimming Poo...\n",
       "3      560004  Bangalore  Basavanagudi , Mavalli , Pampamahakavi Road , ...\n",
       "4      560005  Bangalore                                       Fraser Town "
      ]
     },
     "execution_count": 20,
     "metadata": {},
     "output_type": "execute_result"
    }
   ],
   "source": [
    "df = pd.read_csv('bangalore.csv')\n",
    "df.head()"
   ]
  },
  {
   "cell_type": "code",
   "execution_count": 21,
   "metadata": {},
   "outputs": [
    {
     "name": "stdout",
     "output_type": "stream",
     "text": [
      "(131, 3)\n"
     ]
    },
    {
     "data": {
      "text/html": [
       "<div>\n",
       "<style scoped>\n",
       "    .dataframe tbody tr th:only-of-type {\n",
       "        vertical-align: middle;\n",
       "    }\n",
       "\n",
       "    .dataframe tbody tr th {\n",
       "        vertical-align: top;\n",
       "    }\n",
       "\n",
       "    .dataframe thead th {\n",
       "        text-align: right;\n",
       "    }\n",
       "</style>\n",
       "<table border=\"1\" class=\"dataframe\">\n",
       "  <thead>\n",
       "    <tr style=\"text-align: right;\">\n",
       "      <th></th>\n",
       "      <th>Postalcode</th>\n",
       "    </tr>\n",
       "  </thead>\n",
       "  <tbody>\n",
       "    <tr>\n",
       "      <th>count</th>\n",
       "      <td>131.000000</td>\n",
       "    </tr>\n",
       "    <tr>\n",
       "      <th>mean</th>\n",
       "      <td>560433.099237</td>\n",
       "    </tr>\n",
       "    <tr>\n",
       "      <th>std</th>\n",
       "      <td>775.877517</td>\n",
       "    </tr>\n",
       "    <tr>\n",
       "      <th>min</th>\n",
       "      <td>560001.000000</td>\n",
       "    </tr>\n",
       "    <tr>\n",
       "      <th>25%</th>\n",
       "      <td>560035.500000</td>\n",
       "    </tr>\n",
       "    <tr>\n",
       "      <th>50%</th>\n",
       "      <td>560071.000000</td>\n",
       "    </tr>\n",
       "    <tr>\n",
       "      <th>75%</th>\n",
       "      <td>560104.500000</td>\n",
       "    </tr>\n",
       "    <tr>\n",
       "      <th>max</th>\n",
       "      <td>562164.000000</td>\n",
       "    </tr>\n",
       "  </tbody>\n",
       "</table>\n",
       "</div>"
      ],
      "text/plain": [
       "          Postalcode\n",
       "count     131.000000\n",
       "mean   560433.099237\n",
       "std       775.877517\n",
       "min    560001.000000\n",
       "25%    560035.500000\n",
       "50%    560071.000000\n",
       "75%    560104.500000\n",
       "max    562164.000000"
      ]
     },
     "execution_count": 21,
     "metadata": {},
     "output_type": "execute_result"
    }
   ],
   "source": [
    "print(df.shape)\n",
    "df.describe()"
   ]
  },
  {
   "cell_type": "code",
   "execution_count": 22,
   "metadata": {},
   "outputs": [
    {
     "data": {
      "text/plain": [
       "[12.931355000000053, 77.63397875900006]"
      ]
     },
     "execution_count": 22,
     "metadata": {},
     "output_type": "execute_result"
    }
   ],
   "source": [
    "def get_latilong(postal_code):\n",
    "    lati_long_coords = None\n",
    "    while(lati_long_coords is None):\n",
    "        g = gc.arcgis('{}, Bangalore, Karnataka'.format(postal_code))\n",
    "        lati_long_coords = g.latlng\n",
    "    return lati_long_coords\n",
    "    \n",
    "get_latilong(560034)"
   ]
  },
  {
   "cell_type": "code",
   "execution_count": 23,
   "metadata": {},
   "outputs": [],
   "source": [
    "# Retrieving Postal Code Co-ordinates\n",
    "postal_codes = df['Postalcode']    \n",
    "coords = [ get_latilong(postal_code) for postal_code in postal_codes.tolist() ]"
   ]
  },
  {
   "cell_type": "code",
   "execution_count": 24,
   "metadata": {},
   "outputs": [],
   "source": [
    "# Adding Columns Latitude & Longitude\n",
    "df_coords = pd.DataFrame(coords, columns=['Latitude', 'Longitude'])\n",
    "df['Latitude'] = df_coords['Latitude']\n",
    "df['Longitude'] = df_coords['Longitude']"
   ]
  },
  {
   "cell_type": "code",
   "execution_count": 25,
   "metadata": {},
   "outputs": [
    {
     "data": {
      "text/html": [
       "<div>\n",
       "<style scoped>\n",
       "    .dataframe tbody tr th:only-of-type {\n",
       "        vertical-align: middle;\n",
       "    }\n",
       "\n",
       "    .dataframe tbody tr th {\n",
       "        vertical-align: top;\n",
       "    }\n",
       "\n",
       "    .dataframe thead th {\n",
       "        text-align: right;\n",
       "    }\n",
       "</style>\n",
       "<table border=\"1\" class=\"dataframe\">\n",
       "  <thead>\n",
       "    <tr style=\"text-align: right;\">\n",
       "      <th></th>\n",
       "      <th>Postalcode</th>\n",
       "      <th>Town</th>\n",
       "      <th>Neighborhood</th>\n",
       "      <th>Latitude</th>\n",
       "      <th>Longitude</th>\n",
       "    </tr>\n",
       "  </thead>\n",
       "  <tbody>\n",
       "    <tr>\n",
       "      <th>31</th>\n",
       "      <td>560034</td>\n",
       "      <td>Bangalore</td>\n",
       "      <td>Agara , Koramangala I Block , Koramangala , St...</td>\n",
       "      <td>12.931355</td>\n",
       "      <td>77.633979</td>\n",
       "    </tr>\n",
       "  </tbody>\n",
       "</table>\n",
       "</div>"
      ],
      "text/plain": [
       "    Postalcode       Town                                       Neighborhood  \\\n",
       "31      560034  Bangalore  Agara , Koramangala I Block , Koramangala , St...   \n",
       "\n",
       "     Latitude  Longitude  \n",
       "31  12.931355  77.633979  "
      ]
     },
     "execution_count": 25,
     "metadata": {},
     "output_type": "execute_result"
    }
   ],
   "source": [
    "df[df.Postalcode == 560034]"
   ]
  },
  {
   "cell_type": "code",
   "execution_count": 26,
   "metadata": {},
   "outputs": [
    {
     "data": {
      "text/html": [
       "<div>\n",
       "<style scoped>\n",
       "    .dataframe tbody tr th:only-of-type {\n",
       "        vertical-align: middle;\n",
       "    }\n",
       "\n",
       "    .dataframe tbody tr th {\n",
       "        vertical-align: top;\n",
       "    }\n",
       "\n",
       "    .dataframe thead th {\n",
       "        text-align: right;\n",
       "    }\n",
       "</style>\n",
       "<table border=\"1\" class=\"dataframe\">\n",
       "  <thead>\n",
       "    <tr style=\"text-align: right;\">\n",
       "      <th></th>\n",
       "      <th>Postalcode</th>\n",
       "      <th>Town</th>\n",
       "      <th>Neighborhood</th>\n",
       "      <th>Latitude</th>\n",
       "      <th>Longitude</th>\n",
       "    </tr>\n",
       "  </thead>\n",
       "  <tbody>\n",
       "    <tr>\n",
       "      <th>0</th>\n",
       "      <td>560001</td>\n",
       "      <td>Bangalore</td>\n",
       "      <td>Bangalore Bazaar , Bangalore G.P.O., CMM Court...</td>\n",
       "      <td>12.979185</td>\n",
       "      <td>77.606623</td>\n",
       "    </tr>\n",
       "    <tr>\n",
       "      <th>1</th>\n",
       "      <td>560002</td>\n",
       "      <td>Bangalore</td>\n",
       "      <td>Bangalore City , Bangalore Corporation Building</td>\n",
       "      <td>12.964070</td>\n",
       "      <td>77.577647</td>\n",
       "    </tr>\n",
       "    <tr>\n",
       "      <th>2</th>\n",
       "      <td>560003</td>\n",
       "      <td>Bangalore</td>\n",
       "      <td>Malleswaram , Palace Guttahalli , Swimming Poo...</td>\n",
       "      <td>13.003656</td>\n",
       "      <td>77.569745</td>\n",
       "    </tr>\n",
       "    <tr>\n",
       "      <th>3</th>\n",
       "      <td>560004</td>\n",
       "      <td>Bangalore</td>\n",
       "      <td>Basavanagudi , Mavalli , Pampamahakavi Road , ...</td>\n",
       "      <td>12.945664</td>\n",
       "      <td>77.575075</td>\n",
       "    </tr>\n",
       "    <tr>\n",
       "      <th>4</th>\n",
       "      <td>560005</td>\n",
       "      <td>Bangalore</td>\n",
       "      <td>Fraser Town</td>\n",
       "      <td>12.998115</td>\n",
       "      <td>77.620842</td>\n",
       "    </tr>\n",
       "    <tr>\n",
       "      <th>5</th>\n",
       "      <td>560006</td>\n",
       "      <td>Bangalore</td>\n",
       "      <td>J.C.Nagar , Training Command IAF</td>\n",
       "      <td>13.010375</td>\n",
       "      <td>77.591292</td>\n",
       "    </tr>\n",
       "    <tr>\n",
       "      <th>6</th>\n",
       "      <td>560007</td>\n",
       "      <td>Bangalore</td>\n",
       "      <td>Agram , Air Force Hospital</td>\n",
       "      <td>12.956583</td>\n",
       "      <td>77.628490</td>\n",
       "    </tr>\n",
       "    <tr>\n",
       "      <th>7</th>\n",
       "      <td>560008</td>\n",
       "      <td>Bangalore</td>\n",
       "      <td>H.A.L II Stage , Hulsur Bazaar</td>\n",
       "      <td>12.973030</td>\n",
       "      <td>77.627446</td>\n",
       "    </tr>\n",
       "    <tr>\n",
       "      <th>8</th>\n",
       "      <td>560009</td>\n",
       "      <td>Bangalore</td>\n",
       "      <td>Bangalore Dist Offices Bldg , K. G. Road</td>\n",
       "      <td>12.978412</td>\n",
       "      <td>77.578175</td>\n",
       "    </tr>\n",
       "    <tr>\n",
       "      <th>9</th>\n",
       "      <td>560010</td>\n",
       "      <td>Bangalore</td>\n",
       "      <td>Industrial Estate  , Rajajinagar , Rajajinagar...</td>\n",
       "      <td>12.998219</td>\n",
       "      <td>77.552180</td>\n",
       "    </tr>\n",
       "    <tr>\n",
       "      <th>10</th>\n",
       "      <td>560011</td>\n",
       "      <td>Bangalore</td>\n",
       "      <td>Jayangar III Block , Madhavan Park</td>\n",
       "      <td>12.934650</td>\n",
       "      <td>77.590724</td>\n",
       "    </tr>\n",
       "    <tr>\n",
       "      <th>11</th>\n",
       "      <td>560012</td>\n",
       "      <td>Bangalore</td>\n",
       "      <td>Science Institute</td>\n",
       "      <td>13.021715</td>\n",
       "      <td>77.566665</td>\n",
       "    </tr>\n",
       "    <tr>\n",
       "      <th>12</th>\n",
       "      <td>560013</td>\n",
       "      <td>Bangalore</td>\n",
       "      <td>Jalahalli</td>\n",
       "      <td>13.047915</td>\n",
       "      <td>77.544193</td>\n",
       "    </tr>\n",
       "    <tr>\n",
       "      <th>13</th>\n",
       "      <td>560014</td>\n",
       "      <td>Bangalore</td>\n",
       "      <td>Jalahalli East</td>\n",
       "      <td>13.069865</td>\n",
       "      <td>77.542137</td>\n",
       "    </tr>\n",
       "    <tr>\n",
       "      <th>14</th>\n",
       "      <td>560015</td>\n",
       "      <td>Bangalore</td>\n",
       "      <td>Jalahalli West</td>\n",
       "      <td>13.061060</td>\n",
       "      <td>77.526252</td>\n",
       "    </tr>\n",
       "  </tbody>\n",
       "</table>\n",
       "</div>"
      ],
      "text/plain": [
       "    Postalcode       Town                                       Neighborhood  \\\n",
       "0       560001  Bangalore  Bangalore Bazaar , Bangalore G.P.O., CMM Court...   \n",
       "1       560002  Bangalore   Bangalore City , Bangalore Corporation Building    \n",
       "2       560003  Bangalore  Malleswaram , Palace Guttahalli , Swimming Poo...   \n",
       "3       560004  Bangalore  Basavanagudi , Mavalli , Pampamahakavi Road , ...   \n",
       "4       560005  Bangalore                                       Fraser Town    \n",
       "5       560006  Bangalore                  J.C.Nagar , Training Command IAF    \n",
       "6       560007  Bangalore                        Agram , Air Force Hospital    \n",
       "7       560008  Bangalore                    H.A.L II Stage , Hulsur Bazaar    \n",
       "8       560009  Bangalore          Bangalore Dist Offices Bldg , K. G. Road    \n",
       "9       560010  Bangalore  Industrial Estate  , Rajajinagar , Rajajinagar...   \n",
       "10      560011  Bangalore                Jayangar III Block , Madhavan Park    \n",
       "11      560012  Bangalore                                 Science Institute    \n",
       "12      560013  Bangalore                                         Jalahalli    \n",
       "13      560014  Bangalore                                    Jalahalli East    \n",
       "14      560015  Bangalore                                    Jalahalli West    \n",
       "\n",
       "     Latitude  Longitude  \n",
       "0   12.979185  77.606623  \n",
       "1   12.964070  77.577647  \n",
       "2   13.003656  77.569745  \n",
       "3   12.945664  77.575075  \n",
       "4   12.998115  77.620842  \n",
       "5   13.010375  77.591292  \n",
       "6   12.956583  77.628490  \n",
       "7   12.973030  77.627446  \n",
       "8   12.978412  77.578175  \n",
       "9   12.998219  77.552180  \n",
       "10  12.934650  77.590724  \n",
       "11  13.021715  77.566665  \n",
       "12  13.047915  77.544193  \n",
       "13  13.069865  77.542137  \n",
       "14  13.061060  77.526252  "
      ]
     },
     "execution_count": 26,
     "metadata": {},
     "output_type": "execute_result"
    }
   ],
   "source": [
    "df.head(15)"
   ]
  },
  {
   "cell_type": "code",
   "execution_count": 27,
   "metadata": {},
   "outputs": [],
   "source": [
    "df.to_csv('bangalore_lalo.csv',index=False)"
   ]
  },
  {
   "cell_type": "code",
   "execution_count": 28,
   "metadata": {},
   "outputs": [
    {
     "data": {
      "text/html": [
       "<div>\n",
       "<style scoped>\n",
       "    .dataframe tbody tr th:only-of-type {\n",
       "        vertical-align: middle;\n",
       "    }\n",
       "\n",
       "    .dataframe tbody tr th {\n",
       "        vertical-align: top;\n",
       "    }\n",
       "\n",
       "    .dataframe thead th {\n",
       "        text-align: right;\n",
       "    }\n",
       "</style>\n",
       "<table border=\"1\" class=\"dataframe\">\n",
       "  <thead>\n",
       "    <tr style=\"text-align: right;\">\n",
       "      <th></th>\n",
       "      <th>Postalcode</th>\n",
       "      <th>Town</th>\n",
       "      <th>Neighborhood</th>\n",
       "      <th>Latitude</th>\n",
       "      <th>Longitude</th>\n",
       "    </tr>\n",
       "  </thead>\n",
       "  <tbody>\n",
       "    <tr>\n",
       "      <th>0</th>\n",
       "      <td>560001</td>\n",
       "      <td>Bangalore</td>\n",
       "      <td>Bangalore Bazaar , Bangalore G.P.O., CMM Court...</td>\n",
       "      <td>12.979185</td>\n",
       "      <td>77.606623</td>\n",
       "    </tr>\n",
       "    <tr>\n",
       "      <th>1</th>\n",
       "      <td>560002</td>\n",
       "      <td>Bangalore</td>\n",
       "      <td>Bangalore City , Bangalore Corporation Building</td>\n",
       "      <td>12.964070</td>\n",
       "      <td>77.577647</td>\n",
       "    </tr>\n",
       "    <tr>\n",
       "      <th>2</th>\n",
       "      <td>560003</td>\n",
       "      <td>Bangalore</td>\n",
       "      <td>Malleswaram , Palace Guttahalli , Swimming Poo...</td>\n",
       "      <td>13.003656</td>\n",
       "      <td>77.569745</td>\n",
       "    </tr>\n",
       "    <tr>\n",
       "      <th>3</th>\n",
       "      <td>560004</td>\n",
       "      <td>Bangalore</td>\n",
       "      <td>Basavanagudi , Mavalli , Pampamahakavi Road , ...</td>\n",
       "      <td>12.945664</td>\n",
       "      <td>77.575075</td>\n",
       "    </tr>\n",
       "    <tr>\n",
       "      <th>4</th>\n",
       "      <td>560005</td>\n",
       "      <td>Bangalore</td>\n",
       "      <td>Fraser Town</td>\n",
       "      <td>12.998115</td>\n",
       "      <td>77.620842</td>\n",
       "    </tr>\n",
       "    <tr>\n",
       "      <th>...</th>\n",
       "      <td>...</td>\n",
       "      <td>...</td>\n",
       "      <td>...</td>\n",
       "      <td>...</td>\n",
       "      <td>...</td>\n",
       "    </tr>\n",
       "    <tr>\n",
       "      <th>126</th>\n",
       "      <td>562149</td>\n",
       "      <td>Bangalore</td>\n",
       "      <td>Bagalur  , Bandikodigehalli , Kannur</td>\n",
       "      <td>13.109270</td>\n",
       "      <td>77.678845</td>\n",
       "    </tr>\n",
       "    <tr>\n",
       "      <th>127</th>\n",
       "      <td>562157</td>\n",
       "      <td>Bangalore</td>\n",
       "      <td>Bettahalsur , Chikkajala , Doddajala , Hunasam...</td>\n",
       "      <td>13.168690</td>\n",
       "      <td>77.635941</td>\n",
       "    </tr>\n",
       "    <tr>\n",
       "      <th>128</th>\n",
       "      <td>562162</td>\n",
       "      <td>Bangalore</td>\n",
       "      <td>Aluru , Dasanapura , Hullegowdanahalli , Husku...</td>\n",
       "      <td>13.063310</td>\n",
       "      <td>77.439025</td>\n",
       "    </tr>\n",
       "    <tr>\n",
       "      <th>129</th>\n",
       "      <td>562163</td>\n",
       "      <td>Bangalore</td>\n",
       "      <td>Arakere , Basettihalli , Doddatumkur , Konnaga...</td>\n",
       "      <td>13.260500</td>\n",
       "      <td>77.530259</td>\n",
       "    </tr>\n",
       "    <tr>\n",
       "      <th>130</th>\n",
       "      <td>562164</td>\n",
       "      <td>Bangalore</td>\n",
       "      <td>Avathi, Bidalur , Bijjawara , Karahalli , Koir...</td>\n",
       "      <td>13.304470</td>\n",
       "      <td>77.706258</td>\n",
       "    </tr>\n",
       "  </tbody>\n",
       "</table>\n",
       "<p>131 rows × 5 columns</p>\n",
       "</div>"
      ],
      "text/plain": [
       "     Postalcode       Town                                       Neighborhood  \\\n",
       "0        560001  Bangalore  Bangalore Bazaar , Bangalore G.P.O., CMM Court...   \n",
       "1        560002  Bangalore   Bangalore City , Bangalore Corporation Building    \n",
       "2        560003  Bangalore  Malleswaram , Palace Guttahalli , Swimming Poo...   \n",
       "3        560004  Bangalore  Basavanagudi , Mavalli , Pampamahakavi Road , ...   \n",
       "4        560005  Bangalore                                       Fraser Town    \n",
       "..          ...        ...                                                ...   \n",
       "126      562149  Bangalore              Bagalur  , Bandikodigehalli , Kannur    \n",
       "127      562157  Bangalore  Bettahalsur , Chikkajala , Doddajala , Hunasam...   \n",
       "128      562162  Bangalore  Aluru , Dasanapura , Hullegowdanahalli , Husku...   \n",
       "129      562163  Bangalore  Arakere , Basettihalli , Doddatumkur , Konnaga...   \n",
       "130      562164  Bangalore  Avathi, Bidalur , Bijjawara , Karahalli , Koir...   \n",
       "\n",
       "      Latitude  Longitude  \n",
       "0    12.979185  77.606623  \n",
       "1    12.964070  77.577647  \n",
       "2    13.003656  77.569745  \n",
       "3    12.945664  77.575075  \n",
       "4    12.998115  77.620842  \n",
       "..         ...        ...  \n",
       "126  13.109270  77.678845  \n",
       "127  13.168690  77.635941  \n",
       "128  13.063310  77.439025  \n",
       "129  13.260500  77.530259  \n",
       "130  13.304470  77.706258  \n",
       "\n",
       "[131 rows x 5 columns]"
      ]
     },
     "execution_count": 28,
     "metadata": {},
     "output_type": "execute_result"
    }
   ],
   "source": [
    "df"
   ]
  },
  {
   "cell_type": "markdown",
   "metadata": {},
   "source": [
    "## 3.\tMethodology section \n"
   ]
  },
  {
   "cell_type": "code",
   "execution_count": null,
   "metadata": {},
   "outputs": [],
   "source": []
  },
  {
   "cell_type": "markdown",
   "metadata": {},
   "source": [
    "## 4.\tResults section \n"
   ]
  },
  {
   "cell_type": "code",
   "execution_count": null,
   "metadata": {},
   "outputs": [],
   "source": []
  },
  {
   "cell_type": "markdown",
   "metadata": {},
   "source": [
    "## 5.\tDiscussion section \n"
   ]
  },
  {
   "cell_type": "code",
   "execution_count": null,
   "metadata": {},
   "outputs": [],
   "source": []
  },
  {
   "cell_type": "markdown",
   "metadata": {},
   "source": [
    "## 6.\tConclusion section \n"
   ]
  },
  {
   "cell_type": "code",
   "execution_count": null,
   "metadata": {},
   "outputs": [],
   "source": []
  },
  {
   "cell_type": "code",
   "execution_count": null,
   "metadata": {},
   "outputs": [],
   "source": []
  },
  {
   "cell_type": "code",
   "execution_count": null,
   "metadata": {},
   "outputs": [],
   "source": []
  },
  {
   "cell_type": "code",
   "execution_count": null,
   "metadata": {},
   "outputs": [],
   "source": []
  },
  {
   "cell_type": "code",
   "execution_count": null,
   "metadata": {},
   "outputs": [],
   "source": []
  },
  {
   "cell_type": "code",
   "execution_count": null,
   "metadata": {},
   "outputs": [],
   "source": []
  }
 ],
 "metadata": {
  "kernelspec": {
   "display_name": "Python",
   "language": "python",
   "name": "conda-env-python-py"
  },
  "language_info": {
   "codemirror_mode": {
    "name": "ipython",
    "version": 3
   },
   "file_extension": ".py",
   "mimetype": "text/x-python",
   "name": "python",
   "nbconvert_exporter": "python",
   "pygments_lexer": "ipython3",
   "version": "3.6.10"
  }
 },
 "nbformat": 4,
 "nbformat_minor": 4
}
